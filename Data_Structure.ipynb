{
  "nbformat": 4,
  "nbformat_minor": 0,
  "metadata": {
    "colab": {
      "provenance": []
    },
    "kernelspec": {
      "name": "python3",
      "display_name": "Python 3"
    },
    "language_info": {
      "name": "python"
    }
  },
  "cells": [
    {
      "cell_type": "markdown",
      "source": [
        "#Data Types and Structure Assignment"
      ],
      "metadata": {
        "id": "Xo8FToe_p3IG"
      }
    },
    {
      "cell_type": "markdown",
      "source": [
        "#Theory Questions"
      ],
      "metadata": {
        "id": "Bk0TGf8zp8Wt"
      }
    },
    {
      "cell_type": "markdown",
      "source": [
        "1. Data structures are the data type which is used to store data.They are important because they are helpful to store and organize data and acces it."
      ],
      "metadata": {
        "id": "eSvHI6eEp_W9"
      }
    },
    {
      "cell_type": "markdown",
      "source": [
        "2. Mutable Data types: These can be modified after inialization<br> example: List,set,dictionary<br>Immutable Data Types:These cannot be modified after inialization.<br> example: tuple,string,frozenset"
      ],
      "metadata": {
        "id": "tU6MoN5eqXtM"
      }
    },
    {
      "cell_type": "markdown",
      "source": [
        "3. Lists are mutable while tuples are immutable."
      ],
      "metadata": {
        "id": "GI9p3sP5rOxb"
      }
    },
    {
      "cell_type": "markdown",
      "source": [
        "4. Dictionaries in programming (especially in languages like Python) store data as key-value pairs. Each key is unique and is used to access its corresponding value quickly. Here's how they work under the hood:\n",
        "\n",
        "  1. Hashing\n",
        "When a key is added to a dictionary, it is first passed through a hash function, which converts the key into a unique integer (called a hash code).\n",
        "\n",
        "This hash code determines where the key-value pair is stored in memory (in a structure called a hash table).\n",
        "\n",
        "  2. Hash Table\n",
        "A hash table is an array-like structure where each slot (called a bucket) holds a key-value pair.\n",
        "\n",
        "The hash code tells the dictionary which bucket to use.\n",
        "\n",
        "  3. Collision Handling\n",
        "Sometimes two keys produce the same hash code. This is called a collision.\n",
        "\n",
        "Python handles collisions using techniques like chaining (storing multiple pairs in the same bucket using a list) or open addressing (finding the next available slot).\n",
        "\n",
        "  4. Fast Lookup\n",
        "Because of hashing, looking up a value by its key is usually very fast — on average, it takes constant time: O(1)."
      ],
      "metadata": {
        "id": "XxxhLoGkq7_N"
      }
    },
    {
      "cell_type": "markdown",
      "source": [
        "5. A set do not contains any duplicate value hence whenever I don't want to store duplicate data we use set."
      ],
      "metadata": {
        "id": "hsQgeMumc5Mx"
      }
    },
    {
      "cell_type": "markdown",
      "source": [
        "6. A string is used to store sequence of characters and it is immutable while list is used to store heterogenous data and it is mutable"
      ],
      "metadata": {
        "id": "AiOgkeTpdW84"
      }
    },
    {
      "cell_type": "markdown",
      "source": [
        "7. Tuple ensures data integrity in following ways:\n",
        "  a. Immutable data structure\n",
        "  b. Hashable\n",
        "  c. Reduce bugs\n",
        "  d. Constant data structure"
      ],
      "metadata": {
        "id": "1tB_rVlgdzwo"
      }
    },
    {
      "cell_type": "markdown",
      "source": [
        "8.  A hash table is an array-like structure where each slot (called a bucket) holds a key-value pair.\n",
        "The hash code tells the dictionary which bucket to use."
      ],
      "metadata": {
        "id": "Zs16qSFUfVR6"
      }
    },
    {
      "cell_type": "markdown",
      "source": [
        "9. Yes list can contains different type of data type(hetrogenous data)"
      ],
      "metadata": {
        "id": "rWyNW-uffjEe"
      }
    },
    {
      "cell_type": "markdown",
      "source": [
        "10. 1. Memory Efficiency (String Interning)\n",
        "Python often reuses immutable strings (a technique called string interning) to save memory.\n",
        "\n",
        "If strings were mutable, changing one instance would unexpectedly affect all other instances pointing to the same string in memory.\n",
        "\n",
        "  2. Hashability\n",
        "Immutable objects like strings can be hashed, which is necessary for using them as keys in dictionaries or elements in sets.\n",
        "\n",
        "If strings were mutable, their hash value could change, breaking data structures that rely on consistent hashing.\n",
        "\n",
        "  3. Thread Safety\n",
        "Since strings can’t change, they’re naturally safe to use in multithreaded environments without needing locks or synchronization.\n",
        "\n",
        "  4. Predictable Behavior\n",
        "Because a string cannot be changed after it is created, you can trust that its content remains the same throughout the program.\n",
        "\n",
        "This ensures reliable and bug-free code."
      ],
      "metadata": {
        "id": "6HWwSzNKgEq3"
      }
    },
    {
      "cell_type": "markdown",
      "source": [
        "11. 1. Fast Lookup by Key (O(1)):\n",
        "- Dictionary: Accessing a value by key is very fast (average O(1)).\n",
        "- List: Searching for a value may take O(n) time.\n",
        "- Use a dictionary when you need fast access using unique identifiers.\n",
        "\n",
        "2. Key-Value Mapping:\n",
        "- Dictionary stores data as key-value pairs.\n",
        "- List stores items as values only, no labels.\n",
        "Example:\n",
        "    Dictionary: student = {\"name\": \"Alice\", \"age\": 20}\n",
        "    List:       student = [\"Alice\", 20]\n",
        "- Dictionaries are more expressive and readable.\n",
        "\n",
        "3. No Need to Remember Indexes:\n",
        "- List access is by position (e.g., student[0]).\n",
        "- Dictionary access is by key (e.g., student[\"name\"]).\n",
        "Example:\n",
        "    students = {\"101\": \"Alice\", \"102\": \"Bob\"}\n",
        "\n",
        "4. No Duplicate Keys:\n",
        "- Dictionaries prevent duplicate keys automatically.\n",
        "- Lists allow duplicate values.\n",
        "\n",
        "5. Flexible Data Structures:\n",
        "- Dictionaries can be nested (e.g., JSON-like structures).\n",
        "- Useful for structured data like configurations, user profiles, etc."
      ],
      "metadata": {
        "id": "GiRoyA_qg8iZ"
      }
    },
    {
      "cell_type": "markdown",
      "source": [
        "12. We have a software that manages player data in cricket and we want to have each Player name unique so we have to use tuple because player name cannot be changed otherwise there will be bugs."
      ],
      "metadata": {
        "id": "0Wfv6O8hnWmy"
      }
    },
    {
      "cell_type": "markdown",
      "source": [
        "13. Sets use a hashing mechanism (like dictionaries) to check for duplicates.\n",
        "\n",
        "When a new item is added:\n",
        "\n",
        "Python hashes the value.\n",
        "\n",
        "If the hash already exists in the set, the value is not added again."
      ],
      "metadata": {
        "id": "v74Eq646oYqU"
      }
    },
    {
      "cell_type": "markdown",
      "source": [
        "14. In List \"in\" keyword finds the value present or not in list it takes O(n) time complexity while In Dictionary \"in\" keyword finds the key is present or not in dictionary it takes O(1) time complexity."
      ],
      "metadata": {
        "id": "PRK81khCo4Ye"
      }
    },
    {
      "cell_type": "markdown",
      "source": [
        "15. No we can't modify elements of tuple because it is an immutable data structure."
      ],
      "metadata": {
        "id": "S6_MFo0Hp7SF"
      }
    },
    {
      "cell_type": "markdown",
      "source": [
        "16. Use case : Student record management\n",
        "\n",
        "```\n",
        "students = {\n",
        "    \"101\": {\"name\": \"Alice\", \"age\": 20, \"grade\": \"A\"},\n",
        "    \"102\": {\"name\": \"Bob\", \"age\": 21, \"grade\": \"B\"}\n",
        "}\n",
        "```\n",
        "\n"
      ],
      "metadata": {
        "id": "7fjWWRy1rNxy"
      }
    },
    {
      "cell_type": "markdown",
      "source": [
        "17. Time Complexity for accesing elements in dictionary is O(1) because it uses hashcode to identify desired bucket in hashtable."
      ],
      "metadata": {
        "id": "c1iBwikzro7B"
      }
    },
    {
      "cell_type": "markdown",
      "source": [
        "18. When we want index based acces and ordered collection we use list over dictionary."
      ],
      "metadata": {
        "id": "LBxahfZ0sHF8"
      }
    },
    {
      "cell_type": "markdown",
      "source": [
        "19. In latest version of python dictionary are ordered previously It was considered unorder. faster lookup(O(1)) and Indexing by position is not allowed."
      ],
      "metadata": {
        "id": "xEFrJGTCsdev"
      }
    },
    {
      "cell_type": "markdown",
      "source": [
        "20. List: Index-Based Retrieval\n",
        "In a list, data is retrieved using a numeric index (starting from 0).\n",
        "\n",
        "The order of items matters, and you must know the item's position.\n",
        "\n",
        " Dictionary: Key-Based Retrieval\n",
        "In a dictionary, data is retrieved using a key (usually a string or number).\n",
        "\n",
        "You don't care about the position — you access values by their associated key"
      ],
      "metadata": {
        "id": "N7v3ZrVTtsYZ"
      }
    },
    {
      "cell_type": "markdown",
      "source": [
        "#Practical Questions"
      ],
      "metadata": {
        "id": "2fQWe2F3UEdD"
      }
    },
    {
      "cell_type": "code",
      "source": [
        "#1\n",
        "name=\"Govind Sharma\"\n",
        "print(name)"
      ],
      "metadata": {
        "id": "PMmfAiSrdV1U",
        "colab": {
          "base_uri": "https://localhost:8080/"
        },
        "outputId": "a3ff7f15-d4c6-4265-bb42-db534ddf1d4a"
      },
      "execution_count": 1,
      "outputs": [
        {
          "output_type": "stream",
          "name": "stdout",
          "text": [
            "Govind Sharma\n"
          ]
        }
      ]
    },
    {
      "cell_type": "code",
      "execution_count": 2,
      "metadata": {
        "id": "BS5h7pAUpw4B",
        "colab": {
          "base_uri": "https://localhost:8080/"
        },
        "outputId": "befcddc1-1297-4c7f-bcc5-b5fa4ca47476"
      },
      "outputs": [
        {
          "output_type": "execute_result",
          "data": {
            "text/plain": [
              "11"
            ]
          },
          "metadata": {},
          "execution_count": 2
        }
      ],
      "source": [
        "#2\n",
        "len(\"Hello World\")"
      ]
    },
    {
      "cell_type": "code",
      "source": [
        "#3\n",
        "s=\"Python Programming\"\n",
        "print(s[:3])"
      ],
      "metadata": {
        "colab": {
          "base_uri": "https://localhost:8080/"
        },
        "id": "ZcHwXA_NUn9u",
        "outputId": "45cd3783-8688-4cd8-e115-9581a39227c3"
      },
      "execution_count": 3,
      "outputs": [
        {
          "output_type": "stream",
          "name": "stdout",
          "text": [
            "Pyt\n"
          ]
        }
      ]
    },
    {
      "cell_type": "code",
      "source": [
        "#4\n",
        "s=\"hello\"\n",
        "s.upper()"
      ],
      "metadata": {
        "colab": {
          "base_uri": "https://localhost:8080/",
          "height": 35
        },
        "id": "iod622xFVG-G",
        "outputId": "2c4cc200-893f-47b4-a171-0f60d06f219f"
      },
      "execution_count": 4,
      "outputs": [
        {
          "output_type": "execute_result",
          "data": {
            "text/plain": [
              "'HELLO'"
            ],
            "application/vnd.google.colaboratory.intrinsic+json": {
              "type": "string"
            }
          },
          "metadata": {},
          "execution_count": 4
        }
      ]
    },
    {
      "cell_type": "code",
      "source": [
        "#5\n",
        "s=\"I like apple\"\n",
        "s.replace(\"apple\",\"orange\")"
      ],
      "metadata": {
        "colab": {
          "base_uri": "https://localhost:8080/",
          "height": 35
        },
        "id": "Z9sX7MqSVSy_",
        "outputId": "60151224-a79f-46ff-a826-1f5beafc06a6"
      },
      "execution_count": 5,
      "outputs": [
        {
          "output_type": "execute_result",
          "data": {
            "text/plain": [
              "'I like orange'"
            ],
            "application/vnd.google.colaboratory.intrinsic+json": {
              "type": "string"
            }
          },
          "metadata": {},
          "execution_count": 5
        }
      ]
    },
    {
      "cell_type": "code",
      "source": [
        "#6\n",
        "lis=[]\n",
        "for i in range(1,6):\n",
        "  lis.append(i)\n",
        "print(lis)"
      ],
      "metadata": {
        "colab": {
          "base_uri": "https://localhost:8080/"
        },
        "id": "I84V3Z7JV1mT",
        "outputId": "a0f95057-6fbd-4f64-b28d-1b8e916c7b78"
      },
      "execution_count": 6,
      "outputs": [
        {
          "output_type": "stream",
          "name": "stdout",
          "text": [
            "[1, 2, 3, 4, 5]\n"
          ]
        }
      ]
    },
    {
      "cell_type": "code",
      "source": [
        "#7\n",
        "lis=[1, 2, 3, 4]\n",
        "lis.append(10)\n",
        "print(lis)"
      ],
      "metadata": {
        "colab": {
          "base_uri": "https://localhost:8080/"
        },
        "id": "7Xm_gZydWFkq",
        "outputId": "456a6645-5d5c-418a-ea68-e65e688be2ae"
      },
      "execution_count": 7,
      "outputs": [
        {
          "output_type": "stream",
          "name": "stdout",
          "text": [
            "[1, 2, 3, 4, 10]\n"
          ]
        }
      ]
    },
    {
      "cell_type": "code",
      "source": [
        "#8\n",
        "lis=[1, 2, 3, 4, 5]\n",
        "lis.remove(3)\n",
        "print(lis)"
      ],
      "metadata": {
        "colab": {
          "base_uri": "https://localhost:8080/"
        },
        "id": "hX89FrduWSP3",
        "outputId": "a6dffc8c-9da2-4900-fc6e-8b6c60fa51e6"
      },
      "execution_count": 8,
      "outputs": [
        {
          "output_type": "stream",
          "name": "stdout",
          "text": [
            "[1, 2, 4, 5]\n"
          ]
        }
      ]
    },
    {
      "cell_type": "code",
      "source": [
        "#9\n",
        "lis=['a', 'b', 'c', 'd']\n",
        "print(lis[1])"
      ],
      "metadata": {
        "colab": {
          "base_uri": "https://localhost:8080/"
        },
        "id": "N_QkpXT9WdDP",
        "outputId": "3a438871-363e-4a7d-911d-f6549cb2f90d"
      },
      "execution_count": 9,
      "outputs": [
        {
          "output_type": "stream",
          "name": "stdout",
          "text": [
            "b\n"
          ]
        }
      ]
    },
    {
      "cell_type": "code",
      "source": [
        "#10\n",
        "lis=[10, 20, 30, 40, 50]\n",
        "lis.reverse()\n",
        "print(lis)"
      ],
      "metadata": {
        "colab": {
          "base_uri": "https://localhost:8080/"
        },
        "id": "Ag7RInopWmwE",
        "outputId": "1149a0d0-a04c-485c-c81e-550f1007ed98"
      },
      "execution_count": 10,
      "outputs": [
        {
          "output_type": "stream",
          "name": "stdout",
          "text": [
            "[50, 40, 30, 20, 10]\n"
          ]
        }
      ]
    },
    {
      "cell_type": "code",
      "source": [
        "#11\n",
        "tup=(100,200,300)\n",
        "print(tup)"
      ],
      "metadata": {
        "colab": {
          "base_uri": "https://localhost:8080/"
        },
        "id": "yMVziVXNWwD4",
        "outputId": "f112950a-c70b-469f-b9ad-edeeb821858f"
      },
      "execution_count": 11,
      "outputs": [
        {
          "output_type": "stream",
          "name": "stdout",
          "text": [
            "(100, 200, 300)\n"
          ]
        }
      ]
    },
    {
      "cell_type": "code",
      "source": [
        "#12\n",
        "tup=('red', 'green', 'blue', 'yellow')\n",
        "print(tup[-2])"
      ],
      "metadata": {
        "colab": {
          "base_uri": "https://localhost:8080/"
        },
        "id": "yosjtYA5W9u4",
        "outputId": "421c1db2-75cf-40f6-fed2-348121743e8d"
      },
      "execution_count": 12,
      "outputs": [
        {
          "output_type": "stream",
          "name": "stdout",
          "text": [
            "blue\n"
          ]
        }
      ]
    },
    {
      "cell_type": "code",
      "source": [
        "#13\n",
        "tup=(10, 20, 5, 15)\n",
        "print(max(tup))"
      ],
      "metadata": {
        "colab": {
          "base_uri": "https://localhost:8080/"
        },
        "id": "HUW6M0TJXJzw",
        "outputId": "765033dd-8fa1-42dd-c784-39ac6b82d732"
      },
      "execution_count": 13,
      "outputs": [
        {
          "output_type": "stream",
          "name": "stdout",
          "text": [
            "20\n"
          ]
        }
      ]
    },
    {
      "cell_type": "code",
      "source": [
        "#14\n",
        "tup=('dog', 'cat', 'rabbit')\n",
        "print(tup.index('cat'))"
      ],
      "metadata": {
        "colab": {
          "base_uri": "https://localhost:8080/"
        },
        "id": "_XnkybLUXRaK",
        "outputId": "b787d275-5d1e-44e0-9c12-bfcd82207a78"
      },
      "execution_count": 14,
      "outputs": [
        {
          "output_type": "stream",
          "name": "stdout",
          "text": [
            "1\n"
          ]
        }
      ]
    },
    {
      "cell_type": "code",
      "source": [
        "#15\n",
        "tup=(\"Apple\",\"Kiwi\",\"Mango\")\n",
        "if \"Kiwi\" in tup:\n",
        "  print(\"Kiwi is present\")"
      ],
      "metadata": {
        "colab": {
          "base_uri": "https://localhost:8080/"
        },
        "id": "tDMuVvY_X03u",
        "outputId": "3f3aa728-380a-46cb-dd11-5ccee843a6aa"
      },
      "execution_count": 15,
      "outputs": [
        {
          "output_type": "stream",
          "name": "stdout",
          "text": [
            "Kiwi is present\n"
          ]
        }
      ]
    },
    {
      "cell_type": "code",
      "source": [
        "#16\n",
        "sett={'a','b','c'}\n",
        "print(type(sett))\n",
        "print(sett)"
      ],
      "metadata": {
        "colab": {
          "base_uri": "https://localhost:8080/"
        },
        "id": "_KGswb2BYKlz",
        "outputId": "ba36c4c9-8b71-424f-8f98-240e19a286c9"
      },
      "execution_count": 16,
      "outputs": [
        {
          "output_type": "stream",
          "name": "stdout",
          "text": [
            "<class 'set'>\n",
            "{'c', 'b', 'a'}\n"
          ]
        }
      ]
    },
    {
      "cell_type": "code",
      "source": [
        "#17\n",
        "sett={1, 2, 3, 4, 5}\n",
        "sett.clear()\n",
        "print(sett)"
      ],
      "metadata": {
        "colab": {
          "base_uri": "https://localhost:8080/"
        },
        "id": "15b73yZnYnIC",
        "outputId": "071c7d82-a6d1-491b-87e2-8fec24d52a9c"
      },
      "execution_count": 20,
      "outputs": [
        {
          "output_type": "stream",
          "name": "stdout",
          "text": [
            "set()\n"
          ]
        }
      ]
    },
    {
      "cell_type": "code",
      "source": [
        "#18\n",
        "sett={1, 2, 3, 4}\n",
        "sett.remove(4)\n",
        "print(sett)"
      ],
      "metadata": {
        "colab": {
          "base_uri": "https://localhost:8080/"
        },
        "id": "gSixaNhSY119",
        "outputId": "5ffcbb5e-b867-402d-fe35-f5eda0838b98"
      },
      "execution_count": 21,
      "outputs": [
        {
          "output_type": "stream",
          "name": "stdout",
          "text": [
            "{1, 2, 3}\n"
          ]
        }
      ]
    },
    {
      "cell_type": "code",
      "source": [
        "#19\n",
        "a={1, 2, 3}\n",
        "b={3,4,5}\n",
        "print(a|b)"
      ],
      "metadata": {
        "colab": {
          "base_uri": "https://localhost:8080/"
        },
        "id": "jA-yBZFDZIyr",
        "outputId": "186cf1b9-100a-42e4-f0ef-6052517efab5"
      },
      "execution_count": 24,
      "outputs": [
        {
          "output_type": "stream",
          "name": "stdout",
          "text": [
            "{1, 2, 3, 4, 5}\n"
          ]
        }
      ]
    },
    {
      "cell_type": "code",
      "source": [
        "#20\n",
        "a={1,2,3}\n",
        "b={2,3,4}\n",
        "print(a&b)"
      ],
      "metadata": {
        "colab": {
          "base_uri": "https://localhost:8080/"
        },
        "id": "j6Meh79EZmcC",
        "outputId": "798851b4-ca05-4b92-cf5b-01137d7174b6"
      },
      "execution_count": 25,
      "outputs": [
        {
          "output_type": "stream",
          "name": "stdout",
          "text": [
            "{2, 3}\n"
          ]
        }
      ]
    },
    {
      "cell_type": "code",
      "source": [
        "#21\n",
        "dicti={\"name\":\"Govind\",\"age\":18,\"city\":\"Jaipur\"}\n",
        "print(dicti)"
      ],
      "metadata": {
        "colab": {
          "base_uri": "https://localhost:8080/"
        },
        "id": "zaUg5HzDZ0bF",
        "outputId": "4baebb14-30bb-44d2-ee08-62f5b75843c0"
      },
      "execution_count": 27,
      "outputs": [
        {
          "output_type": "stream",
          "name": "stdout",
          "text": [
            "{'name': 'Govind', 'age': 18, 'city': 'Jaipur'}\n"
          ]
        }
      ]
    },
    {
      "cell_type": "code",
      "source": [
        "#22\n",
        "dicti={'name': 'John', 'age': 25}\n",
        "dicti.update({'country': 'USA'})\n",
        "print(dicti)"
      ],
      "metadata": {
        "colab": {
          "base_uri": "https://localhost:8080/"
        },
        "id": "xjxdeRSdaCPe",
        "outputId": "0deb2c5d-edeb-418d-c587-94032addcc16"
      },
      "execution_count": 28,
      "outputs": [
        {
          "output_type": "stream",
          "name": "stdout",
          "text": [
            "{'name': 'John', 'age': 25, 'country': 'USA'}\n"
          ]
        }
      ]
    },
    {
      "cell_type": "code",
      "source": [
        "#23\n",
        "dicti={'name': 'Alice', 'age': 30}\n",
        "dicti['name']=\"Govind\"\n",
        "print(dicti)"
      ],
      "metadata": {
        "colab": {
          "base_uri": "https://localhost:8080/"
        },
        "id": "9cA4Km09ayqT",
        "outputId": "168006ce-4d31-4362-d325-bfda516dd84e"
      },
      "execution_count": 29,
      "outputs": [
        {
          "output_type": "stream",
          "name": "stdout",
          "text": [
            "{'name': 'Govind', 'age': 30}\n"
          ]
        }
      ]
    },
    {
      "cell_type": "code",
      "source": [
        "#24\n",
        "dicti={'name': 'Bob', 'age': 22, 'city': 'New York'}\n",
        "dicti.pop('age')\n",
        "print(dicti)"
      ],
      "metadata": {
        "colab": {
          "base_uri": "https://localhost:8080/"
        },
        "id": "S7YKUY_wbH4Y",
        "outputId": "ce01dfeb-9994-407d-bc87-5083bb627723"
      },
      "execution_count": 31,
      "outputs": [
        {
          "output_type": "stream",
          "name": "stdout",
          "text": [
            "{'name': 'Bob', 'city': 'New York'}\n"
          ]
        }
      ]
    },
    {
      "cell_type": "code",
      "source": [
        "#25\n",
        "dicti={'name': 'Alice', 'city': 'Paris'}\n",
        "if 'city' in dicti:\n",
        "  print(\"City is present\")"
      ],
      "metadata": {
        "colab": {
          "base_uri": "https://localhost:8080/"
        },
        "id": "uAFSUhTAbcUF",
        "outputId": "7a11ffc7-6cf4-457c-ec63-d140c7daa1f4"
      },
      "execution_count": 32,
      "outputs": [
        {
          "output_type": "stream",
          "name": "stdout",
          "text": [
            "City is present\n"
          ]
        }
      ]
    },
    {
      "cell_type": "code",
      "source": [
        "#26\n",
        "lis=[1,2,3,4,5]\n",
        "tup=(6,7,8,9)\n",
        "dicti={'name':\"Govind\"}\n",
        "print(lis)\n",
        "print(tup)\n",
        "print(dicti)"
      ],
      "metadata": {
        "colab": {
          "base_uri": "https://localhost:8080/"
        },
        "id": "ifBK_hhFbqhO",
        "outputId": "b99c3b78-b149-4b80-e893-c11db532bd65"
      },
      "execution_count": 33,
      "outputs": [
        {
          "output_type": "stream",
          "name": "stdout",
          "text": [
            "[1, 2, 3, 4, 5]\n",
            "(6, 7, 8, 9)\n",
            "{'name': 'Govind'}\n"
          ]
        }
      ]
    },
    {
      "cell_type": "code",
      "source": [
        "#27\n",
        "import random\n",
        "lis=[]\n",
        "for i in range(1,6):\n",
        "  lis.append(random.randint(1,100))\n",
        "print(lis)\n",
        "lis.sort()\n",
        "print(lis)"
      ],
      "metadata": {
        "colab": {
          "base_uri": "https://localhost:8080/"
        },
        "id": "VcEYjbslcH4m",
        "outputId": "290a076a-6895-4102-e695-834efa5b7931"
      },
      "execution_count": 36,
      "outputs": [
        {
          "output_type": "stream",
          "name": "stdout",
          "text": [
            "[43, 21, 75, 20, 11]\n",
            "[11, 20, 21, 43, 75]\n"
          ]
        }
      ]
    },
    {
      "cell_type": "code",
      "source": [
        "#28\n",
        "lis=[\"Hi\",\"Hello\",\"Bye\",\"Bravo\"]\n",
        "print(lis[3])"
      ],
      "metadata": {
        "colab": {
          "base_uri": "https://localhost:8080/"
        },
        "id": "7mYtSIshc5Vw",
        "outputId": "541ca135-db72-438a-e468-fcb521273600"
      },
      "execution_count": 37,
      "outputs": [
        {
          "output_type": "stream",
          "name": "stdout",
          "text": [
            "Bravo\n"
          ]
        }
      ]
    },
    {
      "cell_type": "code",
      "source": [
        "#29\n",
        "dict1={\"name\":\"Govind\",\"age\":18,\"city\":\"Jaipur\"}\n",
        "dict2={\"country\":\"India\",\"state\":\"Rajasthan\"}\n",
        "dict1.update(dict2)\n",
        "print(dict1)"
      ],
      "metadata": {
        "colab": {
          "base_uri": "https://localhost:8080/"
        },
        "id": "9aRmWmvzda6m",
        "outputId": "c1bab636-0bbe-4cba-b2cf-b976abb6c6ce"
      },
      "execution_count": 38,
      "outputs": [
        {
          "output_type": "stream",
          "name": "stdout",
          "text": [
            "{'name': 'Govind', 'age': 18, 'city': 'Jaipur', 'country': 'India', 'state': 'Rajasthan'}\n"
          ]
        }
      ]
    },
    {
      "cell_type": "code",
      "source": [
        "#30\n",
        "lis=[\"Hi\",\"Hello\",\"Bye\",\"Bravo\"]\n",
        "sett=set(lis)\n",
        "print(sett)\n",
        "print(type(sett))"
      ],
      "metadata": {
        "colab": {
          "base_uri": "https://localhost:8080/"
        },
        "id": "WK0g-iFrdrlG",
        "outputId": "d466b96c-54cc-4773-b2ee-ef93b4e97ea3"
      },
      "execution_count": 39,
      "outputs": [
        {
          "output_type": "stream",
          "name": "stdout",
          "text": [
            "{'Bravo', 'Hi', 'Bye', 'Hello'}\n",
            "<class 'set'>\n"
          ]
        }
      ]
    }
  ]
}